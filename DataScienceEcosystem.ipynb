{
 "cells": [
  {
   "cell_type": "markdown",
   "id": "08418305-ff5f-4a1b-8d08-6887c607d81d",
   "metadata": {},
   "source": [
    "# Data Science Tools and Ecosystem"
   ]
  },
  {
   "cell_type": "markdown",
   "id": "1996a78e-8e93-40c3-a909-a2420a9ae6d7",
   "metadata": {},
   "source": [
    "In this notebook, Data Science Tools and Ecosystem are summarized."
   ]
  },
  {
   "cell_type": "markdown",
   "id": "be7be766-200e-445a-8475-0842e299231c",
   "metadata": {},
   "source": [
    "Some of the popular languages that Data Scientists use are:\n",
    "1. Python\n",
    "2. R\n",
    "3. SQL"
   ]
  },
  {
   "cell_type": "markdown",
   "id": "35c6fae5-5d70-4684-b6d6-64592abc50d1",
   "metadata": {},
   "source": [
    "**Objectives:**\n",
    "- List popular languages for Data Science\n",
    "- List popular Tools for Data Science\n",
    "- List popular Libraries for Data Science"
   ]
  },
  {
   "cell_type": "markdown",
   "id": "441e001a-5ace-48fe-ae9d-469d2979ef1c",
   "metadata": {},
   "source": [
    "Some of the commonly used libraries used by Data Scientists include:\n",
    "1. Scikit-learn\n",
    "2. NumPy\n",
    "3. Pandas\n",
    "4. Seaborn\n",
    "5. Keras\n",
    "6. Tenserflow\n",
    "7. Matplotlib"
   ]
  },
  {
   "cell_type": "markdown",
   "id": "b5c076df-fb88-4be5-a543-1f3e8cb18a22",
   "metadata": {},
   "source": [
    "| Data Science Tools|\n",
    "|-------------------|\n",
    "|Jupyter Notebooks|\n",
    "|Rstudio|\n",
    "|Visual Studio Code|"
   ]
  },
  {
   "cell_type": "markdown",
   "id": "02d17237-f1e0-40d3-951a-c0bcce50f7a9",
   "metadata": {},
   "source": [
    "### Below are a few examples of evaluating arithmetic expressions in Python"
   ]
  },
  {
   "cell_type": "code",
   "execution_count": 1,
   "id": "505dbe1a-082e-40fa-be48-c49033260a96",
   "metadata": {
    "tags": []
   },
   "outputs": [
    {
     "data": {
      "text/plain": [
       "17"
      ]
     },
     "execution_count": 1,
     "metadata": {},
     "output_type": "execute_result"
    }
   ],
   "source": [
    "# This a simple arithmetic expression to mutiply then add integers\n",
    "(3 * 4) + 5"
   ]
  },
  {
   "cell_type": "code",
   "execution_count": 2,
   "id": "47f6b4f3-1076-4d9f-a2ef-988d764e8a49",
   "metadata": {
    "tags": []
   },
   "outputs": [
    {
     "data": {
      "text/plain": [
       "3.3333333333333335"
      ]
     },
     "execution_count": 2,
     "metadata": {},
     "output_type": "execute_result"
    }
   ],
   "source": [
    "# This will convert 200 minutes to hours by diving by 60\n",
    "200 / 60"
   ]
  },
  {
   "cell_type": "markdown",
   "id": "1f0ee54c-25d5-4945-8090-69df1614fc21",
   "metadata": {},
   "source": [
    "## Author\n",
    "Mahmoud Alsaleh"
   ]
  },
  {
   "cell_type": "code",
   "execution_count": null,
   "id": "57bebe9a-d420-47b5-8acf-d456b0022ef2",
   "metadata": {},
   "outputs": [],
   "source": []
  }
 ],
 "metadata": {
  "kernelspec": {
   "display_name": "Python",
   "language": "python",
   "name": "conda-env-python-py"
  },
  "language_info": {
   "codemirror_mode": {
    "name": "ipython",
    "version": 3
   },
   "file_extension": ".py",
   "mimetype": "text/x-python",
   "name": "python",
   "nbconvert_exporter": "python",
   "pygments_lexer": "ipython3",
   "version": "3.7.12"
  }
 },
 "nbformat": 4,
 "nbformat_minor": 5
}
